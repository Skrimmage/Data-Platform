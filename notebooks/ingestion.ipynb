{
 "cells": [
  {
   "cell_type": "code",
   "execution_count": 32,
   "id": "6116a33f-745e-4b83-be3a-593a76096c03",
   "metadata": {},
   "outputs": [],
   "source": [
    "import requests\n",
    "\n",
    "raw_games = requests.get(\n",
    "        \"https://api.nhle.com/stats/rest/en/team\"\n",
    "    )\n",
    "\n",
    "data = raw_games.json()['data']"
   ]
  },
  {
   "cell_type": "code",
   "execution_count": 22,
   "id": "77282f05-28ab-4bd1-b171-22d1d07c585f",
   "metadata": {
    "collapsed": true,
    "jupyter": {
     "outputs_hidden": true
    }
   },
   "outputs": [],
   "source": [
    "import pyarrow.parquet as pq\n",
    "import pandas as pd\n",
    "import pyarrow as pa"
   ]
  },
  {
   "cell_type": "code",
   "execution_count": 40,
   "id": "7bff1abf-5263-4112-abd8-a66e62e101c8",
   "metadata": {},
   "outputs": [
    {
     "name": "stdout",
     "output_type": "stream",
     "text": [
      "['id', 'franchiseId', 'fullName', 'leagueId', 'rawTricode', 'triCode']\n"
     ]
    }
   ],
   "source": [
    "df = pd.DataFrame(data)\n",
    "print(list(df.columns))"
   ]
  },
  {
   "cell_type": "code",
   "execution_count": 36,
   "id": "1d336a51-015b-48f9-87c3-ec25693fc3d3",
   "metadata": {},
   "outputs": [
    {
     "data": {
      "text/plain": [
       "[<pyarrow.lib.ChunkedArray object at 0xffff1a70c590>\n",
       " [\n",
       "   [\n",
       "     11,\n",
       "     34,\n",
       "     31,\n",
       "     32,\n",
       "     33,\n",
       "     ...\n",
       "     22,\n",
       "     16,\n",
       "     3,\n",
       "     29,\n",
       "     13\n",
       "   ]\n",
       " ],\n",
       " <pyarrow.lib.ChunkedArray object at 0xffff1a70c5e0>\n",
       " [\n",
       "   [\n",
       "     35,\n",
       "     26,\n",
       "     15,\n",
       "     27,\n",
       "     28,\n",
       "     ...\n",
       "     25,\n",
       "     11,\n",
       "     10,\n",
       "     36,\n",
       "     33\n",
       "   ]\n",
       " ],\n",
       " <pyarrow.lib.ChunkedArray object at 0xffff1a70c630>\n",
       " [\n",
       "   [\n",
       "     \"Atlanta Thrashers\",\n",
       "     \"Hartford Whalers\",\n",
       "     \"Minnesota North Stars\",\n",
       "     \"Quebec Nordiques\",\n",
       "     \"Winnipeg Jets (1979)\",\n",
       "     ...\n",
       "     \"Edmonton Oilers\",\n",
       "     \"Chicago Blackhawks\",\n",
       "     \"New York Rangers\",\n",
       "     \"Columbus Blue Jackets\",\n",
       "     \"Florida Panthers\"\n",
       "   ]\n",
       " ],\n",
       " <pyarrow.lib.ChunkedArray object at 0xffff1a70c680>\n",
       " [\n",
       "   [\n",
       "     133,\n",
       "     133,\n",
       "     133,\n",
       "     133,\n",
       "     133,\n",
       "     ...\n",
       "     133,\n",
       "     133,\n",
       "     133,\n",
       "     133,\n",
       "     133\n",
       "   ]\n",
       " ],\n",
       " <pyarrow.lib.ChunkedArray object at 0xffff1a70c6d0>\n",
       " [\n",
       "   [\n",
       "     \"ATL\",\n",
       "     \"HFD\",\n",
       "     \"MNS\",\n",
       "     \"QUE\",\n",
       "     \"WIN\",\n",
       "     ...\n",
       "     \"EDM\",\n",
       "     \"CHI\",\n",
       "     \"NYR\",\n",
       "     \"CBJ\",\n",
       "     \"FLA\"\n",
       "   ]\n",
       " ],\n",
       " <pyarrow.lib.ChunkedArray object at 0xffff1a70c720>\n",
       " [\n",
       "   [\n",
       "     \"ATL\",\n",
       "     \"HFD\",\n",
       "     \"MNS\",\n",
       "     \"QUE\",\n",
       "     \"WIN\",\n",
       "     ...\n",
       "     \"EDM\",\n",
       "     \"CHI\",\n",
       "     \"NYR\",\n",
       "     \"CBJ\",\n",
       "     \"FLA\"\n",
       "   ]\n",
       " ]]"
      ]
     },
     "execution_count": 36,
     "metadata": {},
     "output_type": "execute_result"
    }
   ],
   "source": [
    "table = pa.Table.from_pandas(df)\n",
    "table"
   ]
  },
  {
   "cell_type": "code",
   "execution_count": 25,
   "id": "8f46e703-3b8a-4843-9fb6-56d738b40b67",
   "metadata": {
    "collapsed": true,
    "jupyter": {
     "outputs_hidden": true
    }
   },
   "outputs": [],
   "source": [
    "pq.write_table(table, 'raw_games.parquet')"
   ]
  },
  {
   "cell_type": "code",
   "execution_count": 26,
   "id": "a0bee8eb-9a79-4dae-b26c-46857f0a7632",
   "metadata": {},
   "outputs": [
    {
     "ename": "NameError",
     "evalue": "name 'constants' is not defined",
     "output_type": "error",
     "traceback": [
      "\u001b[0;31m---------------------------------------------------------------------------\u001b[0m",
      "\u001b[0;31mNameError\u001b[0m                                 Traceback (most recent call last)",
      "Cell \u001b[0;32mIn[26], line 1\u001b[0m\n\u001b[0;32m----> 1\u001b[0m pq\u001b[38;5;241m.\u001b[39mread_table(\u001b[43mconstants\u001b[49m\u001b[38;5;241m.\u001b[39mHISTORICAL_NHL_SCHEDULE_FILE_PATH)\n\u001b[1;32m      3\u001b[0m \u001b[38;5;66;03m# Connect to a SQLite database (this will create or open the database file named 'nhl_games.db')\u001b[39;00m\n\u001b[1;32m      4\u001b[0m conn \u001b[38;5;241m=\u001b[39m sqlite3\u001b[38;5;241m.\u001b[39mconnect(\u001b[38;5;124m'\u001b[39m\u001b[38;5;124mnhl_games.db\u001b[39m\u001b[38;5;124m'\u001b[39m)\n",
      "\u001b[0;31mNameError\u001b[0m: name 'constants' is not defined"
     ]
    }
   ],
   "source": [
    "import sqlite3\n",
    "\n",
    "pq.read_table('raw_games.parquet')\n",
    "\n",
    "# Connect to a SQLite database (this will create or open the database file named 'nhl_games.db')\n",
    "conn = sqlite3.connect('nhl_games.db')\n",
    "cursor = conn.cursor()"
   ]
  },
  {
   "cell_type": "code",
   "execution_count": 27,
   "id": "53fced60-7414-43ac-9d80-832b7eb653dc",
   "metadata": {},
   "outputs": [],
   "source": [
    "import duckdb"
   ]
  },
  {
   "cell_type": "code",
   "execution_count": 28,
   "id": "4e4bd36e-dd06-4390-b984-1cc0e425b055",
   "metadata": {},
   "outputs": [],
   "source": [
    "cur = duckdb.connect('/home/dpage/Projects/skrimmage/data/staging/data.duckdb')"
   ]
  },
  {
   "cell_type": "code",
   "execution_count": 30,
   "id": "a9948fbd-7349-4e69-9d31-4b57b2b0a945",
   "metadata": {},
   "outputs": [
    {
     "data": {
      "text/plain": [
       "[(1917020001,\n",
       "  '1917-12-19T20:00:00',\n",
       "  '1917-12-19',\n",
       "  1,\n",
       "  1,\n",
       "  7,\n",
       "  2,\n",
       "  4,\n",
       "  36,\n",
       "  3.0,\n",
       "  19171918,\n",
       "  7,\n",
       "  8)]"
      ]
     },
     "execution_count": 30,
     "metadata": {},
     "output_type": "execute_result"
    }
   ],
   "source": [
    "cur.execute('select * from raw_nhl_games limit 1;').fetchall()"
   ]
  },
  {
   "cell_type": "code",
   "execution_count": 31,
   "id": "9385cb31-4da9-47ac-913e-fb8d95f7b285",
   "metadata": {},
   "outputs": [],
   "source": [
    "cur.close()"
   ]
  },
  {
   "cell_type": "code",
   "execution_count": null,
   "id": "9329a40c-d967-41fc-9b97-c0ef5164708e",
   "metadata": {},
   "outputs": [],
   "source": []
  }
 ],
 "metadata": {
  "kernelspec": {
   "display_name": "Python 3 (ipykernel)",
   "language": "python",
   "name": "python3"
  },
  "language_info": {
   "codemirror_mode": {
    "name": "ipython",
    "version": 3
   },
   "file_extension": ".py",
   "mimetype": "text/x-python",
   "name": "python",
   "nbconvert_exporter": "python",
   "pygments_lexer": "ipython3",
   "version": "3.11.4"
  }
 },
 "nbformat": 4,
 "nbformat_minor": 5
}
